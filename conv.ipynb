{
 "cells": [
  {
   "cell_type": "markdown",
   "metadata": {},
   "source": [
    "# MNIST卷积神经网络\n",
    "这个案例中使用的是卷积神经网络进行MNIST识别。（输入图片保持28×28）\n",
    "* 模型1：来自keras案例，2个卷积层+1个FC+softmax 参数很多，而且弄了dropout什么的，0.99\n",
    "* 模型2：来自paddle案例，2个卷积（各自带maxpool），0.9904 层次上减少了很多，差距不大。\n"
   ]
  },
  {
   "cell_type": "code",
   "execution_count": 49,
   "metadata": {},
   "outputs": [],
   "source": [
    "import keras\n",
    "from keras.datasets import mnist\n",
    "from keras.models import Sequential\n",
    "from keras.layers import Dense, Dropout, Flatten\n",
    "from keras.layers import Conv2D, MaxPooling2D\n",
    "from keras import backend as K\n",
    "import numpy as np\n",
    "from keras.utils import np_utils\n",
    "from PIL import Image"
   ]
  },
  {
   "cell_type": "code",
   "execution_count": 15,
   "metadata": {},
   "outputs": [],
   "source": [
    "batch_size = 128\n",
    "num_classes = 10\n",
    "epochs = 12\n",
    "# 输入图像尺寸\n",
    "img_rows, img_cols = 28, 28\n",
    "input_shape = (img_rows, img_cols, 1)"
   ]
  },
  {
   "cell_type": "code",
   "execution_count": 35,
   "metadata": {},
   "outputs": [],
   "source": [
    "#为何必须是三维的？？2维不行吗？\n",
    "def loaddataMnist():\n",
    "    f = np.load('./mnist.npz')\n",
    "    x_train, y_train = f['x_train'], f['y_train']\n",
    "    x_test, y_test = f['x_test'], f['y_test']\n",
    "    f.close()\n",
    "    x_train = x_train.reshape(x_train.shape[0], img_rows, img_cols, 1).astype('float32')\n",
    "    x_test = x_test.reshape(x_test.shape[0], img_rows, img_cols, 1).astype('float32')\n",
    "    x_train/=255\n",
    "    x_test/=255\n",
    "    y_train = np_utils.to_categorical(y_train,num_classes)\n",
    "    y_test = np_utils.to_categorical(y_test,num_classes)\n",
    "    return (x_train,y_train),(x_test,y_test) "
   ]
  },
  {
   "cell_type": "code",
   "execution_count": 36,
   "metadata": {},
   "outputs": [],
   "source": [
    "\n",
    "# 数据，分为训练集和测试集\n",
    "(x_train, y_train), (x_test, y_test) = loaddataMnist()"
   ]
  },
  {
   "cell_type": "code",
   "execution_count": 37,
   "metadata": {},
   "outputs": [
    {
     "data": {
      "text/plain": [
       "(60000, 10)"
      ]
     },
     "execution_count": 37,
     "metadata": {},
     "output_type": "execute_result"
    }
   ],
   "source": [
    "y_train.shape"
   ]
  },
  {
   "cell_type": "code",
   "execution_count": 38,
   "metadata": {},
   "outputs": [],
   "source": [
    "def MnistConvModel(input_shape):\n",
    "    \n",
    "    model = Sequential()\n",
    "    model.add(Conv2D(32, kernel_size=(3, 3), activation='relu',input_shape=input_shape))\n",
    "    model.add(Conv2D(64, (3, 3), activation='relu'))\n",
    "    model.add(MaxPooling2D(pool_size=(2, 2)))\n",
    "    model.add(Dropout(0.25))\n",
    "    model.add(Flatten())\n",
    "    model.add(Dense(128, activation='relu'))\n",
    "    model.add(Dropout(0.5))\n",
    "    model.add(Dense(num_classes, activation='softmax'))\n",
    "    model.compile(loss=keras.losses.categorical_crossentropy, optimizer=keras.optimizers.Adadelta(), metrics=['accuracy'])\n",
    "    return model"
   ]
  },
  {
   "cell_type": "code",
   "execution_count": 39,
   "metadata": {},
   "outputs": [
    {
     "name": "stdout",
     "output_type": "stream",
     "text": [
      "WARNING:tensorflow:From C:\\Users\\myy\\Anaconda3\\envs\\keras\\lib\\site-packages\\tensorflow\\python\\framework\\op_def_library.py:263: colocate_with (from tensorflow.python.framework.ops) is deprecated and will be removed in a future version.\n",
      "Instructions for updating:\n",
      "Colocations handled automatically by placer.\n",
      "WARNING:tensorflow:From C:\\Users\\myy\\Anaconda3\\envs\\keras\\lib\\site-packages\\keras\\backend\\tensorflow_backend.py:3733: calling dropout (from tensorflow.python.ops.nn_ops) with keep_prob is deprecated and will be removed in a future version.\n",
      "Instructions for updating:\n",
      "Please use `rate` instead of `keep_prob`. Rate should be set to `rate = 1 - keep_prob`.\n",
      "Model: \"sequential_1\"\n",
      "_________________________________________________________________\n",
      "Layer (type)                 Output Shape              Param #   \n",
      "=================================================================\n",
      "conv2d_1 (Conv2D)            (None, 26, 26, 32)        320       \n",
      "_________________________________________________________________\n",
      "conv2d_2 (Conv2D)            (None, 24, 24, 64)        18496     \n",
      "_________________________________________________________________\n",
      "max_pooling2d_1 (MaxPooling2 (None, 12, 12, 64)        0         \n",
      "_________________________________________________________________\n",
      "dropout_1 (Dropout)          (None, 12, 12, 64)        0         \n",
      "_________________________________________________________________\n",
      "flatten_1 (Flatten)          (None, 9216)              0         \n",
      "_________________________________________________________________\n",
      "dense_1 (Dense)              (None, 128)               1179776   \n",
      "_________________________________________________________________\n",
      "dropout_2 (Dropout)          (None, 128)               0         \n",
      "_________________________________________________________________\n",
      "dense_2 (Dense)              (None, 10)                1290      \n",
      "=================================================================\n",
      "Total params: 1,199,882\n",
      "Trainable params: 1,199,882\n",
      "Non-trainable params: 0\n",
      "_________________________________________________________________\n"
     ]
    }
   ],
   "source": [
    "# 一个\n",
    "model = MnistConvModel(input_shape)\n",
    "model.summary()"
   ]
  },
  {
   "cell_type": "code",
   "execution_count": 41,
   "metadata": {},
   "outputs": [
    {
     "name": "stdout",
     "output_type": "stream",
     "text": [
      "WARNING:tensorflow:From C:\\Users\\myy\\Anaconda3\\envs\\keras\\lib\\site-packages\\tensorflow\\python\\ops\\math_ops.py:3066: to_int32 (from tensorflow.python.ops.math_ops) is deprecated and will be removed in a future version.\n",
      "Instructions for updating:\n",
      "Use tf.cast instead.\n",
      "Train on 48000 samples, validate on 12000 samples\n",
      "Epoch 1/12\n",
      "48000/48000 [==============================] - 101s 2ms/step - loss: 0.3223 - acc: 0.9013 - val_loss: 0.0763 - val_acc: 0.9780\n",
      "Epoch 2/12\n",
      "48000/48000 [==============================] - 96s 2ms/step - loss: 0.0997 - acc: 0.9711 - val_loss: 0.0565 - val_acc: 0.9826\n",
      "Epoch 3/12\n",
      "48000/48000 [==============================] - 101s 2ms/step - loss: 0.0748 - acc: 0.9772 - val_loss: 0.0456 - val_acc: 0.9873\n",
      "Epoch 4/12\n",
      "48000/48000 [==============================] - 96s 2ms/step - loss: 0.0607 - acc: 0.9820 - val_loss: 0.0445 - val_acc: 0.9867\n",
      "Epoch 5/12\n",
      "48000/48000 [==============================] - 96s 2ms/step - loss: 0.0513 - acc: 0.9850 - val_loss: 0.0421 - val_acc: 0.9886\n",
      "Epoch 6/12\n",
      "48000/48000 [==============================] - 99s 2ms/step - loss: 0.0440 - acc: 0.9867 - val_loss: 0.0414 - val_acc: 0.9884\n",
      "Epoch 7/12\n",
      "48000/48000 [==============================] - 97s 2ms/step - loss: 0.0408 - acc: 0.9874 - val_loss: 0.0377 - val_acc: 0.9892\n",
      "Epoch 8/12\n",
      "48000/48000 [==============================] - 101s 2ms/step - loss: 0.0369 - acc: 0.9891 - val_loss: 0.0383 - val_acc: 0.9897\n",
      "Epoch 9/12\n",
      "48000/48000 [==============================] - 96s 2ms/step - loss: 0.0327 - acc: 0.9895 - val_loss: 0.0401 - val_acc: 0.9896\n",
      "Epoch 10/12\n",
      "48000/48000 [==============================] - 97s 2ms/step - loss: 0.0305 - acc: 0.9905 - val_loss: 0.0368 - val_acc: 0.9905\n",
      "Epoch 11/12\n",
      "48000/48000 [==============================] - 99s 2ms/step - loss: 0.0286 - acc: 0.9911 - val_loss: 0.0361 - val_acc: 0.9884\n",
      "Epoch 12/12\n",
      "48000/48000 [==============================] - 97s 2ms/step - loss: 0.0259 - acc: 0.9916 - val_loss: 0.0377 - val_acc: 0.9900\n"
     ]
    }
   ],
   "source": [
    " history = model.fit(x_train, y_train, batch_size = batch_size, epochs = epochs, validation_split = 0.2)"
   ]
  },
  {
   "cell_type": "code",
   "execution_count": 45,
   "metadata": {},
   "outputs": [
    {
     "name": "stdout",
     "output_type": "stream",
     "text": [
      "10000/10000 [==============================] - 5s 534us/step\n",
      "test score 0.028613312207178387\n",
      "test accuracy 0.9902\n"
     ]
    }
   ],
   "source": [
    "score=model.evaluate(x_test,y_test)\n",
    "print(\"test score\",score[0])\n",
    "print(\"test accuracy\",score[1])"
   ]
  },
  {
   "cell_type": "code",
   "execution_count": 61,
   "metadata": {},
   "outputs": [],
   "source": [
    "from keras.preprocessing import image\n",
    "from matplotlib.pyplot import imshow\n",
    "from keras.applications.imagenet_utils import preprocess_input\n",
    "\n",
    "\n",
    "def mnist_predict(img_path, model):\n",
    "    #打开图片并且转为灰度图片（注意，mnist只有黑白色）\n",
    "    img = Image.open(img_path).convert('L')\n",
    "    # 将其转为28×28\n",
    "    im = img.resize((28, 28), Image.ANTIALIAS)\n",
    "    imshow(im)\n",
    "    x = image.img_to_array(im).reshape(28,28,1).astype('float')\n",
    "    # 前面加一维（样本编号维度）\n",
    "    x = np.expand_dims(x, axis=0)\n",
    "    # 归一化处理\n",
    "    #x = preprocess_input(x)\n",
    "    x=x/255\n",
    "    results = model.predict(x)\n",
    "    #取概率最大的标签作为预测输出\n",
    "    lab = np.argsort(results)\n",
    "    print(\"本次预测的数字是: \", lab[0][-1])"
   ]
  },
  {
   "cell_type": "code",
   "execution_count": 62,
   "metadata": {},
   "outputs": [
    {
     "name": "stdout",
     "output_type": "stream",
     "text": [
      "本次预测的数字是:  5\n"
     ]
    },
    {
     "data": {
      "image/png": "[encoded data removed]",
      "text/plain": [
       "<Figure size 432x288 with 1 Axes>"
      ]
     },
     "metadata": {
      "needs_background": "light"
     },
     "output_type": "display_data"
    }
   ],
   "source": [
    "mnist_predict(\"5.png\", model)"
   ]
  },
  {
   "cell_type": "code",
   "execution_count": 73,
   "metadata": {},
   "outputs": [],
   "source": [
    "# 以下模型来自paddle案例，也是两层卷积各20没有FC，直接对接到softmax上（？）\n",
    "def MnistConvModel2(input_shape):\n",
    "    model = Sequential()\n",
    "    model.add(Conv2D(20, kernel_size=5, activation='relu',padding='same',input_shape=input_shape))\n",
    "    model.add(MaxPooling2D(pool_size=(2, 2),strides=2))\n",
    "    model.add(Conv2D(20, kernel_size=5, activation='relu',padding='same',input_shape=input_shape))\n",
    "    model.add(MaxPooling2D(pool_size=(2, 2),strides=2))\n",
    "    model.add(Flatten())\n",
    "    model.add(Dense(num_classes, activation='softmax'))\n",
    "    model.compile(loss=keras.losses.categorical_crossentropy, optimizer=keras.optimizers.Adadelta(), metrics=['accuracy'])\n",
    "    \n",
    "    \n",
    "    #   model = Sequential()\n",
    "    #odel.add(Conv2D(32, kernel_size=(3, 3), activation='relu',input_shape=input_shape))\n",
    "    #odel.add(Conv2D(64, (3, 3), activation='relu'))\n",
    "    #odel.add(MaxPooling2D(pool_size=(2, 2)))\n",
    "    #odel.add(Dropout(0.25))\n",
    "    #odel.add(Flatten())\n",
    "    #odel.add(Dense(128, activation='relu'))\n",
    "    #odel.add(Dropout(0.5))\n",
    "    #odel.add(Dense(num_classes, activation='softmax'))\n",
    "    #odel.compile(loss=keras.losses.categorical_crossentropy, optimizer=keras.optimizers.Adadelta(), metrics=['accuracy'])\n",
    "    \n",
    "    \n",
    "    model.summary()\n",
    "    return model"
   ]
  },
  {
   "cell_type": "code",
   "execution_count": 74,
   "metadata": {},
   "outputs": [
    {
     "name": "stdout",
     "output_type": "stream",
     "text": [
      "Model: \"sequential_5\"\n",
      "_________________________________________________________________\n",
      "Layer (type)                 Output Shape              Param #   \n",
      "=================================================================\n",
      "conv2d_9 (Conv2D)            (None, 28, 28, 20)        520       \n",
      "_________________________________________________________________\n",
      "max_pooling2d_8 (MaxPooling2 (None, 14, 14, 20)        0         \n",
      "_________________________________________________________________\n",
      "conv2d_10 (Conv2D)           (None, 14, 14, 20)        10020     \n",
      "_________________________________________________________________\n",
      "max_pooling2d_9 (MaxPooling2 (None, 7, 7, 20)          0         \n",
      "_________________________________________________________________\n",
      "flatten_2 (Flatten)          (None, 980)               0         \n",
      "_________________________________________________________________\n",
      "dense_6 (Dense)              (None, 10)                9810      \n",
      "=================================================================\n",
      "Total params: 20,350\n",
      "Trainable params: 20,350\n",
      "Non-trainable params: 0\n",
      "_________________________________________________________________\n"
     ]
    }
   ],
   "source": [
    "model2= MnistConvModel2(input_shape)\n"
   ]
  },
  {
   "cell_type": "code",
   "execution_count": 75,
   "metadata": {},
   "outputs": [
    {
     "name": "stdout",
     "output_type": "stream",
     "text": [
      "Epoch 1/12\n",
      "60000/60000 [==============================] - 62s 1ms/step - loss: 0.2545 - acc: 0.9208\n",
      "Epoch 2/12\n",
      "60000/60000 [==============================] - 64s 1ms/step - loss: 0.0698 - acc: 0.9783\n",
      "Epoch 3/12\n",
      "60000/60000 [==============================] - 64s 1ms/step - loss: 0.0511 - acc: 0.9840\n",
      "Epoch 4/12\n",
      "60000/60000 [==============================] - 65s 1ms/step - loss: 0.0427 - acc: 0.9868\n",
      "Epoch 5/12\n",
      "60000/60000 [==============================] - 66s 1ms/step - loss: 0.0356 - acc: 0.9890\n",
      "Epoch 6/12\n",
      "60000/60000 [==============================] - 63s 1ms/step - loss: 0.0311 - acc: 0.9904\n",
      "Epoch 7/12\n",
      "60000/60000 [==============================] - 57s 951us/step - loss: 0.0276 - acc: 0.9915\n",
      "Epoch 8/12\n",
      "60000/60000 [==============================] - 58s 974us/step - loss: 0.0249 - acc: 0.9922\n",
      "Epoch 9/12\n",
      "60000/60000 [==============================] - 59s 987us/step - loss: 0.0226 - acc: 0.9925\n",
      "Epoch 10/12\n",
      "60000/60000 [==============================] - 59s 989us/step - loss: 0.0201 - acc: 0.9940\n",
      "Epoch 11/12\n",
      "60000/60000 [==============================] - 62s 1ms/step - loss: 0.0183 - acc: 0.9944\n",
      "Epoch 12/12\n",
      "60000/60000 [==============================] - 54s 896us/step - loss: 0.0168 - acc: 0.9949\n"
     ]
    },
    {
     "data": {
      "text/plain": [
       "<keras.callbacks.History at 0x23bb0c62a58>"
      ]
     },
     "execution_count": 75,
     "metadata": {},
     "output_type": "execute_result"
    }
   ],
   "source": [
    "model2.fit(x_train, y_train, batch_size = batch_size, epochs = epochs)"
   ]
  },
  {
   "cell_type": "code",
   "execution_count": 76,
   "metadata": {},
   "outputs": [
    {
     "name": "stdout",
     "output_type": "stream",
     "text": [
      "10000/10000 [==============================] - 6s 561us/step\n",
      "test score 0.02727453461117475\n",
      "test accuracy 0.9904\n"
     ]
    }
   ],
   "source": [
    "score=model2.evaluate(x_test,y_test)\n",
    "print(\"test score\",score[0])\n",
    "print(\"test accuracy\",score[1])"
   ]
  },
  {
   "cell_type": "code",
   "execution_count": 77,
   "metadata": {},
   "outputs": [
    {
     "name": "stdout",
     "output_type": "stream",
     "text": [
      "本次预测的数字是:  5\n"
     ]
    },
    {
     "data": {
      "image/png": "[encoded data removed]",
      "text/plain": [
       "<Figure size 432x288 with 1 Axes>"
      ]
     },
     "metadata": {
      "needs_background": "light"
     },
     "output_type": "display_data"
    }
   ],
   "source": [
    "mnist_predict(\"5.png\", model2)"
   ]
  },
  {
   "cell_type": "code",
   "execution_count": null,
   "metadata": {},
   "outputs": [],
   "source": []
  }
 ],
 "metadata": {
  "kernelspec": {
   "display_name": "keras",
   "language": "python",
   "name": "keras"
  },
  "language_info": {
   "codemirror_mode": {
    "name": "ipython",
    "version": 3
   },
   "file_extension": ".py",
   "mimetype": "text/x-python",
   "name": "python",
   "nbconvert_exporter": "python",
   "pygments_lexer": "ipython3",
   "version": "3.6.7"
  }
 },
 "nbformat": 4,
 "nbformat_minor": 2
}
